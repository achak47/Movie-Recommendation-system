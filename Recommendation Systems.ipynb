{
 "cells": [
  {
   "cell_type": "code",
   "execution_count": 53,
   "id": "5a885f10",
   "metadata": {},
   "outputs": [],
   "source": [
    "#Vectorizing texts\n",
    "import numpy as np\n",
    "import math\n",
    "def vectorize(text):\n",
    "  for i in range(len(text)):\n",
    "    text[i] = text[i].replace(\"|\",\" \")\n",
    "  dict = {}\n",
    "  for j in range(len(text)): \n",
    "     for i in text[j].split():\n",
    "         if(i in dict.keys()):\n",
    "            dict[i][j] =  dict[i][j] + 1\n",
    "         else:\n",
    "            dict.update({i:[0 for i in range(len(text))]})\n",
    "            dict[i][j] =  dict[i][j] + 1\n",
    "  n = np.array(list(dict.values()))\n",
    "  n = np.transpose(n)\n",
    "  return n \n",
    "def mag(arr):\n",
    "    return math.sqrt(sum(pow(i,2) for i in arr))"
   ]
  },
  {
   "cell_type": "code",
   "execution_count": 54,
   "id": "bb4044e4",
   "metadata": {},
   "outputs": [],
   "source": [
    "#text = [\"London|Paris|London\",\"Paris|Paris|London\"]\n",
    "def cosine_similarity(n):\n",
    "    print(n,type(n))\n",
    "    # cos = np.sum(n[0]*n[1])/(mag(n[0])*mag(n[1]))\n",
    "    for i in range(len(n)):\n",
    "        l=[0 for k in range(len(n))]\n",
    "        for j in range(len(n)):\n",
    "           if i==j:\n",
    "             l[j] = 1\n",
    "           else:\n",
    "             l[j] = sum(n[i]*n[j])/(mag(n[i])*mag(n[j]))\n",
    "             #Finding the cosine similarity ie. the cosine of angel theta between two vectors\n",
    "        if i==0 :\n",
    "            n1 = np.array(l)\n",
    "        else:\n",
    "            n1 = np.vstack((n1,np.array(l)))\n",
    "    return n1 # This is the array of cosine similarity , where the arr[i][j]th element represents the similarity between ith and jth sentence(phrase)\n",
    "#cosine_similarity(text)"
   ]
  },
  {
   "cell_type": "code",
   "execution_count": 55,
   "id": "495d73fc",
   "metadata": {},
   "outputs": [
    {
     "name": "stderr",
     "output_type": "stream",
     "text": [
      "<ipython-input-53-75ee63cf6599>:6: SettingWithCopyWarning: \n",
      "A value is trying to be set on a copy of a slice from a DataFrame\n",
      "\n",
      "See the caveats in the documentation: https://pandas.pydata.org/pandas-docs/stable/user_guide/indexing.html#returning-a-view-versus-a-copy\n",
      "  text[i] = text[i].replace(\"|\",\" \")\n"
     ]
    },
    {
     "data": {
      "text/plain": [
       "array([[1.        , 0.1490712 , 0.08703883, ..., 0.        , 0.        ,\n",
       "        0.        ],\n",
       "       [0.1490712 , 1.        , 0.07784989, ..., 0.        , 0.        ,\n",
       "        0.        ],\n",
       "       [0.08703883, 0.07784989, 1.        , ..., 0.12309149, 0.        ,\n",
       "        0.        ],\n",
       "       ...,\n",
       "       [0.        , 0.        , 0.12309149, ..., 1.        , 0.        ,\n",
       "        0.        ],\n",
       "       [0.        , 0.        , 0.        , ..., 0.        , 1.        ,\n",
       "        0.        ],\n",
       "       [0.        , 0.        , 0.        , ..., 0.        , 0.        ,\n",
       "        1.        ]])"
      ]
     },
     "execution_count": 55,
     "metadata": {},
     "output_type": "execute_result"
    }
   ],
   "source": [
    "import pandas as pd\n",
    "from sklearn.feature_extraction.text import CountVectorizer\n",
    "from sklearn.metrics.pairwise import cosine_similarity\n",
    "# Sykit learn can be used but we have made our own model\n",
    "movies = pd.read_csv(\"movie_metadata.csv\")\n",
    "features = ['plot_keywords','director_name','actor_1_name','genres']\n",
    "for f in features:\n",
    "    movies[f] = movies[f].fillna('')  #To replace the NaN value to an empty string\n",
    "\n",
    "def combine_features(row):\n",
    "    return row[\"plot_keywords\"]+\" \"+row[\"director_name\"]+\" \"+row[\"actor_1_name\"]+row[\"genres\"]\n",
    "movies[\"combined\"] = movies.apply(combine_features,axis=1)\n",
    "movies[\"combined\"].head()\n",
    "cv = CountVectorizer()\n",
    "#matrix = cv.fit_transform(movies[\"combined\"])\n",
    "matrix = vectorize(movies[\"combined\"])\n",
    "#c = cosine_similarity(matrix)\n",
    "c = cosine_similarity(matrix)\n",
    "c"
   ]
  },
  {
   "cell_type": "code",
   "execution_count": 56,
   "id": "a01c9e6f",
   "metadata": {},
   "outputs": [],
   "source": [
    "l = []\n",
    "for i in range(len(movies)):\n",
    "    l.append(i)\n",
    "movies['index'] = l\n",
    "def title_from_index(index):\n",
    "    return movies[movies.index == index][\"movie_title\"].values[0]\n",
    "def index_from_title(title):\n",
    "    title = title+'�' #Coz the given dataset stores movie title with a � sign at the end\n",
    "    return movies[movies.movie_title == title][\"index\"].values[0]"
   ]
  },
  {
   "cell_type": "code",
   "execution_count": 59,
   "id": "26461268",
   "metadata": {},
   "outputs": [
    {
     "data": {
      "text/plain": [
       "['Men in Black 3�',\n",
       " 'Men in Black II�',\n",
       " 'Lockout�',\n",
       " 'Wild Wild West�',\n",
       " 'Men in Black�',\n",
       " 'Monsters vs. Aliens�',\n",
       " 'Independence Day�',\n",
       " 'Megamind�',\n",
       " 'Cloudy with a Chance of Meatballs 2�',\n",
       " 'X-Men 2�',\n",
       " 'Race to Witch Mountain�',\n",
       " 'Muppets from Space�',\n",
       " 'Teenage Mutant Ninja Turtles III�',\n",
       " 'Home�',\n",
       " 'Home�',\n",
       " 'Home�',\n",
       " 'Aliens in the Attic�',\n",
       " 'The Shawshank Redemption�',\n",
       " 'Lilo & Stitch�',\n",
       " 'Journey 2: The Mysterious Island�',\n",
       " 'Mean Machine�',\n",
       " 'Planet 51�',\n",
       " 'Jimmy Neutron: Boy Genius�',\n",
       " 'Hancock�',\n",
       " 'Alien 3�']"
      ]
     },
     "execution_count": 59,
     "metadata": {},
     "output_type": "execute_result"
    }
   ],
   "source": [
    "user_choice = \"Men in Black 3\"\n",
    "user_choice_index = index_from_title(\"Men in Black 3\")\n",
    "similar_movies = list(enumerate(c[user_choice_index])) # Making a list of tuples with index and corresponding value in each tuple\n",
    "similar_movies = sorted(similar_movies,key= lambda x:x[1],reverse=True)\n",
    "similar_movies = [title_from_index(x[0]) for x in similar_movies]\n",
    "similar_movies[:25]"
   ]
  },
  {
   "cell_type": "code",
   "execution_count": null,
   "id": "91d03d4b",
   "metadata": {},
   "outputs": [],
   "source": []
  }
 ],
 "metadata": {
  "kernelspec": {
   "display_name": "Python 3",
   "language": "python",
   "name": "python3"
  },
  "language_info": {
   "codemirror_mode": {
    "name": "ipython",
    "version": 3
   },
   "file_extension": ".py",
   "mimetype": "text/x-python",
   "name": "python",
   "nbconvert_exporter": "python",
   "pygments_lexer": "ipython3",
   "version": "3.8.8"
  }
 },
 "nbformat": 4,
 "nbformat_minor": 5
}
